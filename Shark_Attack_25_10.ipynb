{
 "cells": [
  {
   "cell_type": "code",
   "execution_count": 1,
   "id": "0fc5126e-fcff-45ef-a842-c5a8f0e5ce51",
   "metadata": {},
   "outputs": [],
   "source": [
    "import pandas as pd"
   ]
  },
  {
   "cell_type": "code",
   "execution_count": 2,
   "id": "86f732bb-dad1-48a9-90a5-20d03ffdb40a",
   "metadata": {},
   "outputs": [],
   "source": [
    "df_innit=pd.read_excel(\"https://www.sharkattackfile.net/spreadsheets/GSAF5.xls\")"
   ]
  },
  {
   "cell_type": "code",
   "execution_count": 3,
   "id": "6845922c-80af-418e-a762-8b70b3ebc2e8",
   "metadata": {},
   "outputs": [
    {
     "name": "stdout",
     "output_type": "stream",
     "text": [
      "<class 'pandas.core.frame.DataFrame'>\n",
      "RangeIndex: 6973 entries, 0 to 6972\n",
      "Data columns (total 23 columns):\n",
      " #   Column          Non-Null Count  Dtype  \n",
      "---  ------          --------------  -----  \n",
      " 0   Date            6973 non-null   object \n",
      " 1   Year            6971 non-null   float64\n",
      " 2   Type            6955 non-null   object \n",
      " 3   Country         6923 non-null   object \n",
      " 4   State           6491 non-null   object \n",
      " 5   Location        6408 non-null   object \n",
      " 6   Activity        6387 non-null   object \n",
      " 7   Name            6753 non-null   object \n",
      " 8   Sex             6394 non-null   object \n",
      " 9   Age             3978 non-null   object \n",
      " 10  Injury          6938 non-null   object \n",
      " 11  Unnamed: 11     6411 non-null   object \n",
      " 12  Time            3447 non-null   object \n",
      " 13  Species         3841 non-null   object \n",
      " 14  Source          6954 non-null   object \n",
      " 15  pdf             6799 non-null   object \n",
      " 16  href formula    6794 non-null   object \n",
      " 17  href            6796 non-null   object \n",
      " 18  Case Number     6798 non-null   object \n",
      " 19  Case Number.1   6797 non-null   object \n",
      " 20  original order  6799 non-null   float64\n",
      " 21  Unnamed: 21     1 non-null      object \n",
      " 22  Unnamed: 22     2 non-null      object \n",
      "dtypes: float64(2), object(21)\n",
      "memory usage: 1.2+ MB\n"
     ]
    }
   ],
   "source": [
    "df_innit.info()"
   ]
  },
  {
   "cell_type": "code",
   "execution_count": 4,
   "id": "711cc449-6c78-43d8-a2f6-c0ec49dfa734",
   "metadata": {},
   "outputs": [],
   "source": [
    "df=pd.read_csv(\"shark_22_10.csv\")"
   ]
  },
  {
   "cell_type": "code",
   "execution_count": 5,
   "id": "143fe00e-8567-409a-b600-7c324cece76d",
   "metadata": {},
   "outputs": [
    {
     "data": {
      "text/html": [
       "<div>\n",
       "<style scoped>\n",
       "    .dataframe tbody tr th:only-of-type {\n",
       "        vertical-align: middle;\n",
       "    }\n",
       "\n",
       "    .dataframe tbody tr th {\n",
       "        vertical-align: top;\n",
       "    }\n",
       "\n",
       "    .dataframe thead th {\n",
       "        text-align: right;\n",
       "    }\n",
       "</style>\n",
       "<table border=\"1\" class=\"dataframe\">\n",
       "  <thead>\n",
       "    <tr style=\"text-align: right;\">\n",
       "      <th></th>\n",
       "      <th>date</th>\n",
       "      <th>year</th>\n",
       "      <th>type</th>\n",
       "      <th>country</th>\n",
       "      <th>state</th>\n",
       "      <th>location</th>\n",
       "      <th>activity</th>\n",
       "      <th>sex</th>\n",
       "      <th>age</th>\n",
       "      <th>injury</th>\n",
       "      <th>time</th>\n",
       "      <th>species</th>\n",
       "    </tr>\n",
       "  </thead>\n",
       "  <tbody>\n",
       "    <tr>\n",
       "      <th>0</th>\n",
       "      <td>2024-09-16 00:00:00</td>\n",
       "      <td>2024.0</td>\n",
       "      <td>Unprovoked</td>\n",
       "      <td>Morocco</td>\n",
       "      <td>Southern Morocco</td>\n",
       "      <td>West of Dakhla</td>\n",
       "      <td>Swimming - jumped off yacht</td>\n",
       "      <td>F</td>\n",
       "      <td>30</td>\n",
       "      <td>Leg severed</td>\n",
       "      <td>1600hr</td>\n",
       "      <td>Reportedly a Great White</td>\n",
       "    </tr>\n",
       "    <tr>\n",
       "      <th>1</th>\n",
       "      <td>2024-08-26 00:00:00</td>\n",
       "      <td>2024.0</td>\n",
       "      <td>Unprovoked</td>\n",
       "      <td>Jamaica</td>\n",
       "      <td>Montego Bay</td>\n",
       "      <td>Falmouth</td>\n",
       "      <td>Spearfishing</td>\n",
       "      <td>M</td>\n",
       "      <td>16</td>\n",
       "      <td>Head right arm and leg severed</td>\n",
       "      <td>NaN</td>\n",
       "      <td>Reportedly Tiger Shark</td>\n",
       "    </tr>\n",
       "    <tr>\n",
       "      <th>2</th>\n",
       "      <td>2024-08-06 00:00:00</td>\n",
       "      <td>2024.0</td>\n",
       "      <td>Unprovoked</td>\n",
       "      <td>Belize</td>\n",
       "      <td>Gulf of Honduras</td>\n",
       "      <td>Central America</td>\n",
       "      <td>Swimming - Diving</td>\n",
       "      <td>F</td>\n",
       "      <td>15</td>\n",
       "      <td>Right lower leg amputated after serious bite</td>\n",
       "      <td>11.30hr</td>\n",
       "      <td>Reef shark 6ft (1.8m)</td>\n",
       "    </tr>\n",
       "    <tr>\n",
       "      <th>3</th>\n",
       "      <td>2024-07-23 00:00:00</td>\n",
       "      <td>2024.0</td>\n",
       "      <td>Unprovoked</td>\n",
       "      <td>Australia</td>\n",
       "      <td>NSW</td>\n",
       "      <td>North Shore Beach, Port Macquarie</td>\n",
       "      <td>Surfing</td>\n",
       "      <td>M</td>\n",
       "      <td>23</td>\n",
       "      <td>Serious injury to leg</td>\n",
       "      <td>1100hr</td>\n",
       "      <td>3m White Shark</td>\n",
       "    </tr>\n",
       "    <tr>\n",
       "      <th>4</th>\n",
       "      <td>2024-07-18 00:00:00</td>\n",
       "      <td>2024.0</td>\n",
       "      <td>Unprovoked</td>\n",
       "      <td>Australia</td>\n",
       "      <td>Western Australia</td>\n",
       "      <td>Trigg beach Sterling</td>\n",
       "      <td>Surfing</td>\n",
       "      <td>M</td>\n",
       "      <td>41</td>\n",
       "      <td>Minor injury to lower left leg</td>\n",
       "      <td>1735hr</td>\n",
       "      <td>Undetermined small shall shark</td>\n",
       "    </tr>\n",
       "  </tbody>\n",
       "</table>\n",
       "</div>"
      ],
      "text/plain": [
       "                  date    year        type    country              state  \\\n",
       "0  2024-09-16 00:00:00  2024.0  Unprovoked    Morocco   Southern Morocco   \n",
       "1  2024-08-26 00:00:00  2024.0  Unprovoked    Jamaica        Montego Bay   \n",
       "2  2024-08-06 00:00:00  2024.0  Unprovoked     Belize   Gulf of Honduras   \n",
       "3  2024-07-23 00:00:00  2024.0  Unprovoked  Australia                NSW   \n",
       "4  2024-07-18 00:00:00  2024.0  Unprovoked  Australia  Western Australia   \n",
       "\n",
       "                            location                     activity sex age  \\\n",
       "0                     West of Dakhla  Swimming - jumped off yacht   F  30   \n",
       "1                           Falmouth                 Spearfishing   M  16   \n",
       "2                    Central America           Swimming - Diving    F  15   \n",
       "3  North Shore Beach, Port Macquarie                      Surfing   M  23   \n",
       "4               Trigg beach Sterling                      Surfing   M  41   \n",
       "\n",
       "                                         injury     time  \\\n",
       "0                                   Leg severed   1600hr   \n",
       "1                Head right arm and leg severed      NaN   \n",
       "2  Right lower leg amputated after serious bite  11.30hr   \n",
       "3                         Serious injury to leg   1100hr   \n",
       "4                Minor injury to lower left leg   1735hr   \n",
       "\n",
       "                          species  \n",
       "0        Reportedly a Great White  \n",
       "1          Reportedly Tiger Shark  \n",
       "2           Reef shark 6ft (1.8m)  \n",
       "3                  3m White Shark  \n",
       "4  Undetermined small shall shark  "
      ]
     },
     "execution_count": 5,
     "metadata": {},
     "output_type": "execute_result"
    }
   ],
   "source": [
    "df.head()"
   ]
  },
  {
   "cell_type": "code",
   "execution_count": 6,
   "id": "b1bd9d72-1b8f-4f12-96b8-2cb1c3ababa4",
   "metadata": {},
   "outputs": [
    {
     "data": {
      "text/plain": [
       "sex\n",
       "M    5595\n",
       "F     787\n",
       "Name: count, dtype: int64"
      ]
     },
     "execution_count": 6,
     "metadata": {},
     "output_type": "execute_result"
    }
   ],
   "source": [
    "df.sex.value_counts()"
   ]
  },
  {
   "cell_type": "code",
   "execution_count": 7,
   "id": "ecc75e36-7171-467e-8ac0-55efe27046d1",
   "metadata": {},
   "outputs": [
    {
     "data": {
      "text/plain": [
       "2"
      ]
     },
     "execution_count": 7,
     "metadata": {},
     "output_type": "execute_result"
    }
   ],
   "source": [
    "df.sex.nunique()"
   ]
  },
  {
   "cell_type": "code",
   "execution_count": 8,
   "id": "b6cb3bb9-683c-41f1-99c9-a98818fe4f31",
   "metadata": {},
   "outputs": [
    {
     "name": "stdout",
     "output_type": "stream",
     "text": [
      "<class 'pandas.core.frame.DataFrame'>\n",
      "RangeIndex: 6963 entries, 0 to 6962\n",
      "Data columns (total 12 columns):\n",
      " #   Column    Non-Null Count  Dtype  \n",
      "---  ------    --------------  -----  \n",
      " 0   date      6963 non-null   object \n",
      " 1   year      6961 non-null   float64\n",
      " 2   type      6945 non-null   object \n",
      " 3   country   6913 non-null   object \n",
      " 4   state     6483 non-null   object \n",
      " 5   location  6399 non-null   object \n",
      " 6   activity  6379 non-null   object \n",
      " 7   sex       6382 non-null   object \n",
      " 8   age       3973 non-null   object \n",
      " 9   injury    6928 non-null   object \n",
      " 10  time      3442 non-null   object \n",
      " 11  species   3836 non-null   object \n",
      "dtypes: float64(1), object(11)\n",
      "memory usage: 652.9+ KB\n"
     ]
    }
   ],
   "source": [
    "df.info()"
   ]
  },
  {
   "cell_type": "code",
   "execution_count": 9,
   "id": "adc776bb-8000-4f2a-8bcc-1678dffa7de3",
   "metadata": {},
   "outputs": [
    {
     "data": {
      "text/plain": [
       "type\n",
       "Unprovoked             5127\n",
       "Provoked                636\n",
       "Invalid                 552\n",
       "Watercraft              354\n",
       "Sea Disaster            242\n",
       "Questionable             21\n",
       "Boat                      7\n",
       " Provoked                 2\n",
       "?                         1\n",
       "Unconfirmed               1\n",
       "Unverified                1\n",
       "Under investigation       1\n",
       "Name: count, dtype: int64"
      ]
     },
     "execution_count": 9,
     "metadata": {},
     "output_type": "execute_result"
    }
   ],
   "source": [
    "df3=df.copy()\n",
    "\n",
    "df3.type.value_counts()"
   ]
  },
  {
   "cell_type": "code",
   "execution_count": 10,
   "id": "522675b5-80fd-4136-877e-4432fa57cb3f",
   "metadata": {},
   "outputs": [],
   "source": [
    "df['type'] = df['type'].str.replace(r'.*Under investigation.*', 'Questionable', regex=True)"
   ]
  },
  {
   "cell_type": "code",
   "execution_count": 11,
   "id": "b35c1bf8-d5eb-4b63-8fda-089f05dafafb",
   "metadata": {},
   "outputs": [],
   "source": [
    "df2=df.copy()"
   ]
  },
  {
   "cell_type": "code",
   "execution_count": 12,
   "id": "4c4a5e90-76bf-4884-8122-1505512622e1",
   "metadata": {},
   "outputs": [],
   "source": [
    "df3=df2.copy()"
   ]
  },
  {
   "cell_type": "code",
   "execution_count": 13,
   "id": "b4ed61f7-5909-4a5c-a76a-1541f85afb5e",
   "metadata": {},
   "outputs": [
    {
     "data": {
      "text/plain": [
       "location\n",
       "New Smyrna Beach, Volusia County         191\n",
       "Daytona Beach, Volusia County             31\n",
       "Ponce Inlet, Volusia County               28\n",
       "Myrtle Beach, Horry County                22\n",
       "Melbourne Beach, Brevard County           20\n",
       "                                        ... \n",
       "Avila Beach, San Luis Obispo County        1\n",
       "Nhulunbuy                                  1\n",
       "Bakers Bay                                 1\n",
       "Near New Smyrna Jetty, Volusia County      1\n",
       "Below the English fort, Trincomalee        1\n",
       "Name: count, Length: 4531, dtype: int64"
      ]
     },
     "execution_count": 13,
     "metadata": {},
     "output_type": "execute_result"
    }
   ],
   "source": [
    "df3.location.value_counts()"
   ]
  },
  {
   "cell_type": "code",
   "execution_count": 14,
   "id": "fcb31edd-6dc2-4ac1-aa87-b448cfdc6db2",
   "metadata": {},
   "outputs": [],
   "source": [
    "df3['location'] = df3['location'].str.replace(r'.*St. Johns County.*', 'St. Johns County', regex=True)"
   ]
  },
  {
   "cell_type": "code",
   "execution_count": 15,
   "id": "67bda9a6-07fc-4ddd-bc8a-03c87137aa71",
   "metadata": {},
   "outputs": [],
   "source": [
    "df4=df3.copy()"
   ]
  },
  {
   "cell_type": "code",
   "execution_count": 16,
   "id": "3eb8c49f-941a-4054-a3e4-5e33f2e09ada",
   "metadata": {},
   "outputs": [
    {
     "data": {
      "text/plain": [
       "1595"
      ]
     },
     "execution_count": 16,
     "metadata": {},
     "output_type": "execute_result"
    }
   ],
   "source": [
    "df4.activity.nunique()"
   ]
  },
  {
   "cell_type": "code",
   "execution_count": 17,
   "id": "de02d655-3645-4e86-884c-2bc247f6cf2e",
   "metadata": {},
   "outputs": [],
   "source": [
    "df4['activity'] = df4['activity'].str.replace(r'.*sunbath.*', 'Sunbathing', regex=True)"
   ]
  },
  {
   "cell_type": "code",
   "execution_count": 18,
   "id": "e4a018e7-34c1-4da8-af8b-d08302a340b6",
   "metadata": {},
   "outputs": [],
   "source": [
    "df5=df4.copy()"
   ]
  },
  {
   "cell_type": "code",
   "execution_count": 19,
   "id": "da5f13a2-2223-4326-8eb5-978252819de3",
   "metadata": {},
   "outputs": [
    {
     "name": "stdout",
     "output_type": "stream",
     "text": [
      "<class 'pandas.core.frame.DataFrame'>\n",
      "RangeIndex: 6963 entries, 0 to 6962\n",
      "Data columns (total 12 columns):\n",
      " #   Column    Non-Null Count  Dtype  \n",
      "---  ------    --------------  -----  \n",
      " 0   date      6963 non-null   object \n",
      " 1   year      6961 non-null   float64\n",
      " 2   type      6945 non-null   object \n",
      " 3   country   6913 non-null   object \n",
      " 4   state     6483 non-null   object \n",
      " 5   location  6399 non-null   object \n",
      " 6   activity  6379 non-null   object \n",
      " 7   sex       6382 non-null   object \n",
      " 8   age       3973 non-null   object \n",
      " 9   injury    6928 non-null   object \n",
      " 10  time      3442 non-null   object \n",
      " 11  species   3836 non-null   object \n",
      "dtypes: float64(1), object(11)\n",
      "memory usage: 652.9+ KB\n"
     ]
    }
   ],
   "source": [
    "df5.info()"
   ]
  },
  {
   "cell_type": "code",
   "execution_count": 20,
   "id": "815924a4-5227-4d5c-9822-8dabd4f9830e",
   "metadata": {},
   "outputs": [
    {
     "data": {
      "text/plain": [
       "array(['F', 'M', nan], dtype=object)"
      ]
     },
     "execution_count": 20,
     "metadata": {},
     "output_type": "execute_result"
    }
   ],
   "source": [
    "df5.sex.unique()"
   ]
  },
  {
   "cell_type": "code",
   "execution_count": 21,
   "id": "8fb3ccd7-c822-4fee-b527-278118ece8df",
   "metadata": {},
   "outputs": [
    {
     "name": "stderr",
     "output_type": "stream",
     "text": [
      "/tmp/ipykernel_465001/1810578299.py:1: FutureWarning: Series.fillna with 'method' is deprecated and will raise in a future version. Use obj.ffill() or obj.bfill() instead.\n",
      "  df5.sex=df5.sex.fillna(method=\"ffill\")\n"
     ]
    }
   ],
   "source": [
    "df5.sex=df5.sex.fillna(method=\"ffill\")"
   ]
  },
  {
   "cell_type": "code",
   "execution_count": 22,
   "id": "1b6c8f14-3253-487a-8649-c8283f25a3db",
   "metadata": {},
   "outputs": [
    {
     "data": {
      "text/plain": [
       "array(['F', 'M'], dtype=object)"
      ]
     },
     "execution_count": 22,
     "metadata": {},
     "output_type": "execute_result"
    }
   ],
   "source": [
    "df5.sex.unique()"
   ]
  },
  {
   "cell_type": "code",
   "execution_count": 23,
   "id": "2dce5022-0d95-44f3-8e12-23679af1c83f",
   "metadata": {},
   "outputs": [],
   "source": [
    "df6=df5.copy()"
   ]
  },
  {
   "cell_type": "code",
   "execution_count": 24,
   "id": "ccb32f5d-1cfa-4516-a849-ba06c88a59b0",
   "metadata": {},
   "outputs": [
    {
     "data": {
      "text/plain": [
       "array(['30', '16', '15', '23', '41', '14', '26', 'Middle age', '18', '21',\n",
       "       nan, '45', '46', '19', '27', '20', '65', '64', '24', '?', '13',\n",
       "       '11', '32', '29', '10', '62', '39', '22', '66', '52', '44', '47',\n",
       "       '55', '59', '8', '50', '34', '38', '30s', '37', '9', '20/30', '35',\n",
       "       '20s', '77', '60', '49', '42', '!2', '73', '25', '50s', '58', '67',\n",
       "       '17', '6', '53', '68', '43', '40', '51', '31', '33', '28', '40s',\n",
       "       'teen', '56', 'Teen', '12', '36', 'M', '57', '!6', '!!', '7', '71',\n",
       "       '48', '54', '75', '45 and 15', '61', '70', '4', '63', '28 & 22',\n",
       "       '22, 57, 31', '60s', \"20's\", '74', '9 & 60', 'a minor', '69', '3',\n",
       "       '82', '72', '18 months', '28 & 26', '5', '86', '18 or 20',\n",
       "       '12 or 13', '46 & 34', '28, 23 & 30', 'Teens', '36 & 26',\n",
       "       '8 or 10', '84', '\\xa0 ', ' ', '30 or 36', '6½', '21 & ?',\n",
       "       '33 or 37', 'mid-30s', '23 & 20', ' 30', '7      &    31', ' 28',\n",
       "       '20?', \"60's\", '32 & 30', '16 to 18', '87', 'Elderly', 'mid-20s',\n",
       "       'Ca. 33', '74 ', '45 ', '21 or 26', '20 ', '>50', '18 to 22',\n",
       "       'adult', '9 & 12', '? & 19', '9 months', '25 to 35', '23 & 26',\n",
       "       '1', '(adult)', '33 & 37', '25 or 28', '37, 67, 35, 27,  ? & 27',\n",
       "       '21, 34,24 & 35', '30 & 32', '50 & 30', '17 & 35', 'X',\n",
       "       '\"middle-age\"', '13 or 18', '34 & 19', '33 & 26', '2 to 3 months',\n",
       "       'MAKE LINE GREEN', ' 43', '81', '\"young\"', '7 or 8', '78',\n",
       "       '17 & 16', 'F', 'Both 11', '9 or 10', 'young', '36 & 23', '  ',\n",
       "       'A.M.', '?    &   14', '10 or 12', '31 or 33', '2½', '13 or 14'],\n",
       "      dtype=object)"
      ]
     },
     "execution_count": 24,
     "metadata": {},
     "output_type": "execute_result"
    }
   ],
   "source": [
    "df6.age.unique()  ## DIFÍCIL DE LIMPIAR Y DEMASIADOS VALORES NULOS"
   ]
  },
  {
   "cell_type": "code",
   "execution_count": 25,
   "id": "c740d55c-44aa-44de-9911-ffc4f8e164f8",
   "metadata": {},
   "outputs": [
    {
     "name": "stdout",
     "output_type": "stream",
     "text": [
      "<class 'pandas.core.frame.DataFrame'>\n",
      "RangeIndex: 6963 entries, 0 to 6962\n",
      "Data columns (total 12 columns):\n",
      " #   Column    Non-Null Count  Dtype  \n",
      "---  ------    --------------  -----  \n",
      " 0   date      6963 non-null   object \n",
      " 1   year      6961 non-null   float64\n",
      " 2   type      6945 non-null   object \n",
      " 3   country   6913 non-null   object \n",
      " 4   state     6483 non-null   object \n",
      " 5   location  6399 non-null   object \n",
      " 6   activity  6379 non-null   object \n",
      " 7   sex       6963 non-null   object \n",
      " 8   age       3973 non-null   object \n",
      " 9   injury    6928 non-null   object \n",
      " 10  time      3442 non-null   object \n",
      " 11  species   3836 non-null   object \n",
      "dtypes: float64(1), object(11)\n",
      "memory usage: 652.9+ KB\n"
     ]
    }
   ],
   "source": [
    "df6.info()"
   ]
  },
  {
   "cell_type": "code",
   "execution_count": 26,
   "id": "1fb0ea47-17ce-4044-b322-af9504a5dadd",
   "metadata": {},
   "outputs": [
    {
     "data": {
      "text/plain": [
       "injury\n",
       "FATAL                                                                   862\n",
       "Foot bitten                                                             100\n",
       "Survived                                                                 97\n",
       "No injury                                                                85\n",
       "Leg bitten                                                               81\n",
       "                                                                       ... \n",
       "2 lacerations on each side of Achilles tendon                             1\n",
       "PROVOKED INCIDENT Hooked shark pulled onboard bit his arm                 1\n",
       "FATAL          Hip & upper thigh bitten, femoral artery severed           1\n",
       "Left ankle lacerated                                                      1\n",
       "FATAL. \"Shark bit him in half, carrying away the lower extremities\"       1\n",
       "Name: count, Length: 4097, dtype: int64"
      ]
     },
     "execution_count": 26,
     "metadata": {},
     "output_type": "execute_result"
    }
   ],
   "source": [
    "df6.injury.value_counts()"
   ]
  },
  {
   "cell_type": "code",
   "execution_count": 27,
   "id": "4467745f-6df1-4401-9bbb-0f195c107dc1",
   "metadata": {},
   "outputs": [],
   "source": [
    "df6['injury'] = df6['injury'].str.replace(r'.*Puncture.*', 'Injured', regex=True)"
   ]
  },
  {
   "cell_type": "code",
   "execution_count": 28,
   "id": "409323d8-89ad-433b-9c88-88246a3aaf1d",
   "metadata": {},
   "outputs": [],
   "source": [
    "df7=df6.copy()"
   ]
  },
  {
   "cell_type": "code",
   "execution_count": 29,
   "id": "92a8cf6a-2937-44b6-b6c9-1284a60b529d",
   "metadata": {},
   "outputs": [
    {
     "data": {
      "text/plain": [
       "species\n",
       "White shark                                                                                                                      194\n",
       "Shark involvement prior to death was not confirmed                                                                               105\n",
       "Invalid                                                                                                                          102\n",
       "Shark involvement not confirmed                                                                                                   92\n",
       "Tiger shark                                                                                                                       89\n",
       "                                                                                                                                ... \n",
       "\"black tipped\" shark                                                                                                               1\n",
       "2 sharks, 4.5 m & 3 m                                                                                                              1\n",
       "Longfin mako shark, 3.5 m [11.5'], 350-kg [772-lb]                                                                                 1\n",
       "4.9 m to 5.5 m [16' to 18'] white shark                                                                                            1\n",
       "Said to involve a grey nurse shark that leapt out of the water and  seized the boy but species identification is questionable      1\n",
       "Name: count, Length: 1693, dtype: int64"
      ]
     },
     "execution_count": 29,
     "metadata": {},
     "output_type": "execute_result"
    }
   ],
   "source": [
    "df7.species.value_counts()"
   ]
  },
  {
   "cell_type": "code",
   "execution_count": 30,
   "id": "fda21c02-b93a-43f1-820d-54ec49526ffc",
   "metadata": {},
   "outputs": [],
   "source": [
    "df7['species'] = df7['species'].str.replace(r'.*unidentified.*', 'Not confirmed', regex=True)"
   ]
  },
  {
   "cell_type": "code",
   "execution_count": 31,
   "id": "f775e5eb-0566-4b2b-bbff-e06a0fbb873a",
   "metadata": {},
   "outputs": [],
   "source": [
    "df7.to_csv(\"Shark_attack_23_10.csv\",index=False)"
   ]
  },
  {
   "cell_type": "code",
   "execution_count": 32,
   "id": "42eaa0da-b56a-436c-aa44-74c4cedb42aa",
   "metadata": {},
   "outputs": [
    {
     "name": "stdout",
     "output_type": "stream",
     "text": [
      "<class 'pandas.core.frame.DataFrame'>\n",
      "RangeIndex: 6963 entries, 0 to 6962\n",
      "Data columns (total 12 columns):\n",
      " #   Column    Non-Null Count  Dtype  \n",
      "---  ------    --------------  -----  \n",
      " 0   date      6963 non-null   object \n",
      " 1   year      6961 non-null   float64\n",
      " 2   type      6945 non-null   object \n",
      " 3   country   6913 non-null   object \n",
      " 4   state     6483 non-null   object \n",
      " 5   location  6399 non-null   object \n",
      " 6   activity  6379 non-null   object \n",
      " 7   sex       6963 non-null   object \n",
      " 8   age       3973 non-null   object \n",
      " 9   injury    6928 non-null   object \n",
      " 10  time      3442 non-null   object \n",
      " 11  species   3836 non-null   object \n",
      "dtypes: float64(1), object(11)\n",
      "memory usage: 652.9+ KB\n"
     ]
    }
   ],
   "source": [
    "df7.info()"
   ]
  },
  {
   "cell_type": "code",
   "execution_count": 33,
   "id": "3c378f1d-35f6-4c3d-a277-7323a69aa494",
   "metadata": {},
   "outputs": [],
   "source": [
    "df7=pd.read_csv(\"Shark_attack_24_10.csv\")"
   ]
  },
  {
   "cell_type": "code",
   "execution_count": 34,
   "id": "c790d607-dde6-41c2-a3e6-a39e42b94fde",
   "metadata": {},
   "outputs": [
    {
     "data": {
      "text/html": [
       "<div>\n",
       "<style scoped>\n",
       "    .dataframe tbody tr th:only-of-type {\n",
       "        vertical-align: middle;\n",
       "    }\n",
       "\n",
       "    .dataframe tbody tr th {\n",
       "        vertical-align: top;\n",
       "    }\n",
       "\n",
       "    .dataframe thead th {\n",
       "        text-align: right;\n",
       "    }\n",
       "</style>\n",
       "<table border=\"1\" class=\"dataframe\">\n",
       "  <thead>\n",
       "    <tr style=\"text-align: right;\">\n",
       "      <th></th>\n",
       "      <th>date</th>\n",
       "      <th>year</th>\n",
       "      <th>type</th>\n",
       "      <th>country</th>\n",
       "      <th>state</th>\n",
       "      <th>location</th>\n",
       "      <th>activity</th>\n",
       "      <th>sex</th>\n",
       "      <th>age</th>\n",
       "      <th>injury</th>\n",
       "      <th>time</th>\n",
       "      <th>species</th>\n",
       "    </tr>\n",
       "  </thead>\n",
       "  <tbody>\n",
       "    <tr>\n",
       "      <th>0</th>\n",
       "      <td>2024-09-16 00:00:00</td>\n",
       "      <td>2024.0</td>\n",
       "      <td>Unprovoked</td>\n",
       "      <td>Morocco</td>\n",
       "      <td>Southern Morocco</td>\n",
       "      <td>West of Dakhla</td>\n",
       "      <td>Swimming</td>\n",
       "      <td>F</td>\n",
       "      <td>30</td>\n",
       "      <td>Injured</td>\n",
       "      <td>1600hr</td>\n",
       "      <td>White shark</td>\n",
       "    </tr>\n",
       "    <tr>\n",
       "      <th>1</th>\n",
       "      <td>2024-08-26 00:00:00</td>\n",
       "      <td>2024.0</td>\n",
       "      <td>Unprovoked</td>\n",
       "      <td>Jamaica</td>\n",
       "      <td>Montego Bay</td>\n",
       "      <td>Falmouth</td>\n",
       "      <td>Fishing</td>\n",
       "      <td>M</td>\n",
       "      <td>16</td>\n",
       "      <td>Head right arm and leg severed</td>\n",
       "      <td>NaN</td>\n",
       "      <td>Tiger shark</td>\n",
       "    </tr>\n",
       "    <tr>\n",
       "      <th>2</th>\n",
       "      <td>2024-08-06 00:00:00</td>\n",
       "      <td>2024.0</td>\n",
       "      <td>Unprovoked</td>\n",
       "      <td>Belize</td>\n",
       "      <td>Gulf of Honduras</td>\n",
       "      <td>Central America</td>\n",
       "      <td>Diving</td>\n",
       "      <td>F</td>\n",
       "      <td>15</td>\n",
       "      <td>Right lower leg amputated after serious bite</td>\n",
       "      <td>11.30hr</td>\n",
       "      <td>Reef shark 6ft (1.8m)</td>\n",
       "    </tr>\n",
       "    <tr>\n",
       "      <th>3</th>\n",
       "      <td>2024-07-23 00:00:00</td>\n",
       "      <td>2024.0</td>\n",
       "      <td>Unprovoked</td>\n",
       "      <td>Australia</td>\n",
       "      <td>NSW</td>\n",
       "      <td>North Shore Beach, Port Macquarie</td>\n",
       "      <td>Surfing</td>\n",
       "      <td>M</td>\n",
       "      <td>23</td>\n",
       "      <td>Serious injury to leg</td>\n",
       "      <td>1100hr</td>\n",
       "      <td>White shark</td>\n",
       "    </tr>\n",
       "    <tr>\n",
       "      <th>4</th>\n",
       "      <td>2024-07-18 00:00:00</td>\n",
       "      <td>2024.0</td>\n",
       "      <td>Unprovoked</td>\n",
       "      <td>Australia</td>\n",
       "      <td>Western Australia</td>\n",
       "      <td>Trigg beach Sterling</td>\n",
       "      <td>Surfing</td>\n",
       "      <td>M</td>\n",
       "      <td>41</td>\n",
       "      <td>Injured</td>\n",
       "      <td>1735hr</td>\n",
       "      <td>Undetermined small shall shark</td>\n",
       "    </tr>\n",
       "  </tbody>\n",
       "</table>\n",
       "</div>"
      ],
      "text/plain": [
       "                  date    year        type    country              state  \\\n",
       "0  2024-09-16 00:00:00  2024.0  Unprovoked    Morocco   Southern Morocco   \n",
       "1  2024-08-26 00:00:00  2024.0  Unprovoked    Jamaica        Montego Bay   \n",
       "2  2024-08-06 00:00:00  2024.0  Unprovoked     Belize   Gulf of Honduras   \n",
       "3  2024-07-23 00:00:00  2024.0  Unprovoked  Australia                NSW   \n",
       "4  2024-07-18 00:00:00  2024.0  Unprovoked  Australia  Western Australia   \n",
       "\n",
       "                            location  activity sex age  \\\n",
       "0                     West of Dakhla  Swimming   F  30   \n",
       "1                           Falmouth   Fishing   M  16   \n",
       "2                    Central America    Diving   F  15   \n",
       "3  North Shore Beach, Port Macquarie   Surfing   M  23   \n",
       "4               Trigg beach Sterling   Surfing   M  41   \n",
       "\n",
       "                                         injury     time  \\\n",
       "0                                       Injured   1600hr   \n",
       "1                Head right arm and leg severed      NaN   \n",
       "2  Right lower leg amputated after serious bite  11.30hr   \n",
       "3                         Serious injury to leg   1100hr   \n",
       "4                                       Injured   1735hr   \n",
       "\n",
       "                          species  \n",
       "0                     White shark  \n",
       "1                     Tiger shark  \n",
       "2           Reef shark 6ft (1.8m)  \n",
       "3                     White shark  \n",
       "4  Undetermined small shall shark  "
      ]
     },
     "execution_count": 34,
     "metadata": {},
     "output_type": "execute_result"
    }
   ],
   "source": [
    "df7.head()"
   ]
  },
  {
   "cell_type": "code",
   "execution_count": 35,
   "id": "7e51a784-bfed-4708-aec4-7ea8afedd1e7",
   "metadata": {},
   "outputs": [
    {
     "name": "stdout",
     "output_type": "stream",
     "text": [
      "<class 'pandas.core.frame.DataFrame'>\n",
      "RangeIndex: 6963 entries, 0 to 6962\n",
      "Data columns (total 12 columns):\n",
      " #   Column    Non-Null Count  Dtype  \n",
      "---  ------    --------------  -----  \n",
      " 0   date      6963 non-null   object \n",
      " 1   year      6961 non-null   float64\n",
      " 2   type      6945 non-null   object \n",
      " 3   country   6913 non-null   object \n",
      " 4   state     6483 non-null   object \n",
      " 5   location  6399 non-null   object \n",
      " 6   activity  6379 non-null   object \n",
      " 7   sex       6963 non-null   object \n",
      " 8   age       3973 non-null   object \n",
      " 9   injury    6928 non-null   object \n",
      " 10  time      3442 non-null   object \n",
      " 11  species   3836 non-null   object \n",
      "dtypes: float64(1), object(11)\n",
      "memory usage: 652.9+ KB\n"
     ]
    }
   ],
   "source": [
    "df7.info()"
   ]
  },
  {
   "cell_type": "code",
   "execution_count": 36,
   "id": "ae404a2c-8755-4e99-afe4-392098b9ad9d",
   "metadata": {},
   "outputs": [
    {
     "name": "stdout",
     "output_type": "stream",
     "text": [
      "<class 'pandas.core.frame.DataFrame'>\n",
      "RangeIndex: 6963 entries, 0 to 6962\n",
      "Data columns (total 12 columns):\n",
      " #   Column    Non-Null Count  Dtype  \n",
      "---  ------    --------------  -----  \n",
      " 0   date      6963 non-null   object \n",
      " 1   year      6961 non-null   float64\n",
      " 2   type      6945 non-null   object \n",
      " 3   country   6913 non-null   object \n",
      " 4   state     6483 non-null   object \n",
      " 5   location  6399 non-null   object \n",
      " 6   activity  6379 non-null   object \n",
      " 7   sex       6963 non-null   object \n",
      " 8   age       3973 non-null   object \n",
      " 9   injury    6928 non-null   object \n",
      " 10  time      3442 non-null   object \n",
      " 11  species   3836 non-null   object \n",
      "dtypes: float64(1), object(11)\n",
      "memory usage: 652.9+ KB\n"
     ]
    }
   ],
   "source": [
    "df8=df7.copy()\n",
    "df8.info()\n"
   ]
  },
  {
   "cell_type": "code",
   "execution_count": 37,
   "id": "dc73ac08-1183-40fd-a273-bca6ad48ebb1",
   "metadata": {},
   "outputs": [
    {
     "name": "stderr",
     "output_type": "stream",
     "text": [
      "/tmp/ipykernel_465001/434624650.py:1: FutureWarning: Series.fillna with 'method' is deprecated and will raise in a future version. Use obj.ffill() or obj.bfill() instead.\n",
      "  df8.year=df8.year.fillna(method=\"ffill\")\n"
     ]
    }
   ],
   "source": [
    "df8.year=df8.year.fillna(method=\"ffill\")\n",
    "\n"
   ]
  },
  {
   "cell_type": "code",
   "execution_count": 38,
   "id": "0c334e5a-5f6a-480a-a65c-b5511ebd5e65",
   "metadata": {},
   "outputs": [
    {
     "name": "stdout",
     "output_type": "stream",
     "text": [
      "<class 'pandas.core.frame.DataFrame'>\n",
      "RangeIndex: 6963 entries, 0 to 6962\n",
      "Data columns (total 12 columns):\n",
      " #   Column    Non-Null Count  Dtype  \n",
      "---  ------    --------------  -----  \n",
      " 0   date      6963 non-null   object \n",
      " 1   year      6963 non-null   float64\n",
      " 2   type      6945 non-null   object \n",
      " 3   country   6913 non-null   object \n",
      " 4   state     6483 non-null   object \n",
      " 5   location  6399 non-null   object \n",
      " 6   activity  6379 non-null   object \n",
      " 7   sex       6963 non-null   object \n",
      " 8   age       3973 non-null   object \n",
      " 9   injury    6928 non-null   object \n",
      " 10  time      3442 non-null   object \n",
      " 11  species   3836 non-null   object \n",
      "dtypes: float64(1), object(11)\n",
      "memory usage: 652.9+ KB\n"
     ]
    }
   ],
   "source": [
    "df8.info()"
   ]
  },
  {
   "cell_type": "code",
   "execution_count": 39,
   "id": "378e92f7-341b-4559-a15f-672f1b74fbd2",
   "metadata": {},
   "outputs": [],
   "source": [
    "df8[\"year\"]=df8[\"year\"].astype(int)"
   ]
  },
  {
   "cell_type": "code",
   "execution_count": 40,
   "id": "2b36d865-da97-439d-abcf-47d8d2f35129",
   "metadata": {},
   "outputs": [
    {
     "name": "stdout",
     "output_type": "stream",
     "text": [
      "<class 'pandas.core.frame.DataFrame'>\n",
      "RangeIndex: 6963 entries, 0 to 6962\n",
      "Data columns (total 12 columns):\n",
      " #   Column    Non-Null Count  Dtype \n",
      "---  ------    --------------  ----- \n",
      " 0   date      6963 non-null   object\n",
      " 1   year      6963 non-null   int64 \n",
      " 2   type      6945 non-null   object\n",
      " 3   country   6913 non-null   object\n",
      " 4   state     6483 non-null   object\n",
      " 5   location  6399 non-null   object\n",
      " 6   activity  6379 non-null   object\n",
      " 7   sex       6963 non-null   object\n",
      " 8   age       3973 non-null   object\n",
      " 9   injury    6928 non-null   object\n",
      " 10  time      3442 non-null   object\n",
      " 11  species   3836 non-null   object\n",
      "dtypes: int64(1), object(11)\n",
      "memory usage: 652.9+ KB\n"
     ]
    }
   ],
   "source": [
    "df8.info()"
   ]
  },
  {
   "cell_type": "code",
   "execution_count": 41,
   "id": "56e4063a-55cf-4432-bc6a-9def48fa3374",
   "metadata": {},
   "outputs": [
    {
     "data": {
      "text/plain": [
       "array(['30', '16', '15', '23', '41', '14', '26', 'Middle age', '18', '21',\n",
       "       nan, '45', '46', '19', '27', '20', '65', '64', '24', '?', '13',\n",
       "       '11', '32', '29', '10', '62', '39', '22', '66', '52', '44', '47',\n",
       "       '55', '59', '8', '50', '34', '38', '30s', '37', '9', '20/30', '35',\n",
       "       '20s', '77', '60', '49', '42', '!2', '73', '25', '50s', '58', '67',\n",
       "       '17', '6', '53', '68', '43', '40', '51', '31', '33', '28', '40s',\n",
       "       'teen', '56', 'Teen', '12', '36', 'M', '57', '!6', '!!', '7', '71',\n",
       "       '48', '54', '75', '45 and 15', '61', '70', '4', '63', '28 & 22',\n",
       "       '22, 57, 31', '60s', \"20's\", '74', '9 & 60', 'a minor', '69', '3',\n",
       "       '82', '72', '18 months', '28 & 26', '5', '86', '18 or 20',\n",
       "       '12 or 13', '46 & 34', '28, 23 & 30', 'Teens', '36 & 26',\n",
       "       '8 or 10', '84', '\\xa0 ', ' ', '30 or 36', '6½', '21 & ?',\n",
       "       '33 or 37', 'mid-30s', '23 & 20', ' 30', '7      &    31', ' 28',\n",
       "       '20?', \"60's\", '32 & 30', '16 to 18', '87', 'Elderly', 'mid-20s',\n",
       "       'Ca. 33', '74 ', '45 ', '21 or 26', '20 ', '>50', '18 to 22',\n",
       "       'adult', '9 & 12', '? & 19', '9 months', '25 to 35', '23 & 26',\n",
       "       '1', '(adult)', '33 & 37', '25 or 28', '37, 67, 35, 27,  ? & 27',\n",
       "       '21, 34,24 & 35', '30 & 32', '50 & 30', '17 & 35', 'X',\n",
       "       '\"middle-age\"', '13 or 18', '34 & 19', '33 & 26', '2 to 3 months',\n",
       "       'MAKE LINE GREEN', ' 43', '81', '\"young\"', '7 or 8', '78',\n",
       "       '17 & 16', 'F', 'Both 11', '9 or 10', 'young', '36 & 23', '  ',\n",
       "       'A.M.', '?    &   14', '10 or 12', '31 or 33', '2½', '13 or 14'],\n",
       "      dtype=object)"
      ]
     },
     "execution_count": 41,
     "metadata": {},
     "output_type": "execute_result"
    }
   ],
   "source": [
    "df8.age.unique()"
   ]
  },
  {
   "cell_type": "code",
   "execution_count": 42,
   "id": "3ba8c44e-e59c-4f9d-a318-5320f219cccb",
   "metadata": {},
   "outputs": [
    {
     "data": {
      "text/plain": [
       "species\n",
       "White shark                                         743\n",
       "Tiger shark                                         331\n",
       "Not confirmed                                       230\n",
       "Bull shark                                          219\n",
       "Black shark                                         140\n",
       "                                                   ... \n",
       "60 cm [2'] captive shark                              1\n",
       "Wobbegong shark, 1m                                   1\n",
       "1.8 m to 2.1 m [6' to 7']  Caribbean Reef Shark       1\n",
       "3.5' to 4.5' shark                                    1\n",
       "\"A pack of sharks\"                                    1\n",
       "Name: count, Length: 829, dtype: int64"
      ]
     },
     "execution_count": 42,
     "metadata": {},
     "output_type": "execute_result"
    }
   ],
   "source": [
    "df8.species.value_counts()"
   ]
  },
  {
   "cell_type": "markdown",
   "id": "c52732a8-36d8-4c6a-a68c-35a08abc45a4",
   "metadata": {},
   "source": [
    "# sex activity country"
   ]
  },
  {
   "cell_type": "code",
   "execution_count": 44,
   "id": "8640fe1a-b4ea-4e79-93b2-c6cc606dc742",
   "metadata": {},
   "outputs": [
    {
     "name": "stdout",
     "output_type": "stream",
     "text": [
      "<class 'pandas.core.frame.DataFrame'>\n",
      "RangeIndex: 6963 entries, 0 to 6962\n",
      "Data columns (total 12 columns):\n",
      " #   Column    Non-Null Count  Dtype \n",
      "---  ------    --------------  ----- \n",
      " 0   date      6963 non-null   object\n",
      " 1   year      6963 non-null   int64 \n",
      " 2   type      6945 non-null   object\n",
      " 3   country   6913 non-null   object\n",
      " 4   state     6483 non-null   object\n",
      " 5   location  6399 non-null   object\n",
      " 6   activity  6379 non-null   object\n",
      " 7   sex       6963 non-null   object\n",
      " 8   age       3973 non-null   object\n",
      " 9   injury    6928 non-null   object\n",
      " 10  time      3442 non-null   object\n",
      " 11  species   3836 non-null   object\n",
      "dtypes: int64(1), object(11)\n",
      "memory usage: 652.9+ KB\n"
     ]
    }
   ],
   "source": [
    "df8.info()"
   ]
  },
  {
   "cell_type": "code",
   "execution_count": 45,
   "id": "215255bf-d524-4509-9992-783287e02756",
   "metadata": {},
   "outputs": [],
   "source": [
    "df_country_sex=df8.groupby([\"country\",\"activity\",\"sex\"]).size().reset_index(name=\"count\")"
   ]
  },
  {
   "cell_type": "code",
   "execution_count": 46,
   "id": "c2509e5d-1690-4b9a-a116-5805689465b4",
   "metadata": {},
   "outputs": [],
   "source": [
    "pivot_df=df_country_sex.pivot_table(index=[\"country\",\"activity\"],columns=\"sex\",values=\"count\",fill_value=0)"
   ]
  },
  {
   "cell_type": "code",
   "execution_count": 47,
   "id": "601e0e0c-6a1c-4b29-b297-7ff0d8641600",
   "metadata": {},
   "outputs": [
    {
     "data": {
      "text/html": [
       "<div>\n",
       "<style scoped>\n",
       "    .dataframe tbody tr th:only-of-type {\n",
       "        vertical-align: middle;\n",
       "    }\n",
       "\n",
       "    .dataframe tbody tr th {\n",
       "        vertical-align: top;\n",
       "    }\n",
       "\n",
       "    .dataframe thead th {\n",
       "        text-align: right;\n",
       "    }\n",
       "</style>\n",
       "<table border=\"1\" class=\"dataframe\">\n",
       "  <thead>\n",
       "    <tr style=\"text-align: right;\">\n",
       "      <th>sex</th>\n",
       "      <th>country</th>\n",
       "      <th>activity</th>\n",
       "      <th>F</th>\n",
       "      <th>M</th>\n",
       "    </tr>\n",
       "  </thead>\n",
       "  <tbody>\n",
       "    <tr>\n",
       "      <th>0</th>\n",
       "      <td>PHILIPPINES</td>\n",
       "      <td>Swimming</td>\n",
       "      <td>0.0</td>\n",
       "      <td>1.0</td>\n",
       "    </tr>\n",
       "    <tr>\n",
       "      <th>1</th>\n",
       "      <td>TONGA</td>\n",
       "      <td>Diving</td>\n",
       "      <td>0.0</td>\n",
       "      <td>1.0</td>\n",
       "    </tr>\n",
       "    <tr>\n",
       "      <th>2</th>\n",
       "      <td>TONGA</td>\n",
       "      <td>Fishing</td>\n",
       "      <td>0.0</td>\n",
       "      <td>2.0</td>\n",
       "    </tr>\n",
       "    <tr>\n",
       "      <th>3</th>\n",
       "      <td>AFRICA</td>\n",
       "      <td>Jumped into river</td>\n",
       "      <td>0.0</td>\n",
       "      <td>1.0</td>\n",
       "    </tr>\n",
       "    <tr>\n",
       "      <th>4</th>\n",
       "      <td>ALGERIA</td>\n",
       "      <td>Swimming</td>\n",
       "      <td>0.0</td>\n",
       "      <td>1.0</td>\n",
       "    </tr>\n",
       "    <tr>\n",
       "      <th>...</th>\n",
       "      <td>...</td>\n",
       "      <td>...</td>\n",
       "      <td>...</td>\n",
       "      <td>...</td>\n",
       "    </tr>\n",
       "    <tr>\n",
       "      <th>1355</th>\n",
       "      <td>YEMEN</td>\n",
       "      <td>Swimming</td>\n",
       "      <td>1.0</td>\n",
       "      <td>0.0</td>\n",
       "    </tr>\n",
       "    <tr>\n",
       "      <th>1356</th>\n",
       "      <td>YEMEN</td>\n",
       "      <td>Diving</td>\n",
       "      <td>0.0</td>\n",
       "      <td>4.0</td>\n",
       "    </tr>\n",
       "    <tr>\n",
       "      <th>1357</th>\n",
       "      <td>YEMEN</td>\n",
       "      <td>Standing</td>\n",
       "      <td>0.0</td>\n",
       "      <td>1.0</td>\n",
       "    </tr>\n",
       "    <tr>\n",
       "      <th>1358</th>\n",
       "      <td>YEMEN</td>\n",
       "      <td>Swimming</td>\n",
       "      <td>0.0</td>\n",
       "      <td>1.0</td>\n",
       "    </tr>\n",
       "    <tr>\n",
       "      <th>1359</th>\n",
       "      <td>YEMEN</td>\n",
       "      <td>Wreck of the steamship Sultan of Bombay</td>\n",
       "      <td>0.0</td>\n",
       "      <td>1.0</td>\n",
       "    </tr>\n",
       "  </tbody>\n",
       "</table>\n",
       "<p>1360 rows × 4 columns</p>\n",
       "</div>"
      ],
      "text/plain": [
       "sex        country                                 activity    F    M\n",
       "0      PHILIPPINES                                 Swimming  0.0  1.0\n",
       "1            TONGA                                   Diving  0.0  1.0\n",
       "2            TONGA                                  Fishing  0.0  2.0\n",
       "3           AFRICA                        Jumped into river  0.0  1.0\n",
       "4          ALGERIA                                 Swimming  0.0  1.0\n",
       "...            ...                                      ...  ...  ...\n",
       "1355         YEMEN                                 Swimming  1.0  0.0\n",
       "1356        YEMEN                                    Diving  0.0  4.0\n",
       "1357        YEMEN                                  Standing  0.0  1.0\n",
       "1358        YEMEN                                  Swimming  0.0  1.0\n",
       "1359        YEMEN   Wreck of the steamship Sultan of Bombay  0.0  1.0\n",
       "\n",
       "[1360 rows x 4 columns]"
      ]
     },
     "execution_count": 47,
     "metadata": {},
     "output_type": "execute_result"
    }
   ],
   "source": [
    "pivot_df=pivot_df.reset_index()\n",
    "pivot_df"
   ]
  },
  {
   "cell_type": "code",
   "execution_count": 48,
   "id": "a9348d8e-8748-4fef-9a17-afb8522a8db2",
   "metadata": {},
   "outputs": [],
   "source": [
    "df_country_sex=df8.groupby(\"country\")[\"sex\"].value_counts().reset_index()\n"
   ]
  },
  {
   "cell_type": "code",
   "execution_count": 49,
   "id": "241bc011-5985-4cf7-8dc3-27bf7d3c8a5e",
   "metadata": {},
   "outputs": [],
   "source": [
    "df_country_sex=df8.groupby([\"sex\",\"country\"]).count().reset_index()"
   ]
  },
  {
   "cell_type": "code",
   "execution_count": 50,
   "id": "f7ab68fa-1384-4516-a625-84b2468d0cc1",
   "metadata": {},
   "outputs": [
    {
     "data": {
      "text/plain": [
       "<bound method NDFrame.head of     sex         country  date  year  type  state  location  activity  age  \\\n",
       "0     F  ATLANTIC OCEAN     3     3     3      2         0         2    2   \n",
       "1     F       AUSTRALIA   124   124   124    124       124       110   81   \n",
       "2     F          AZORES     1     1     1      0         1         1    0   \n",
       "3     F         BAHAMAS    27    27    27     23        21        26   21   \n",
       "4     F          BELIZE     2     2     2      1         1         2    1   \n",
       "..   ..             ...   ...   ...   ...    ...       ...       ...  ...   \n",
       "297   M         VIETNAM    11    11    10      6         8         9    3   \n",
       "298   M     WEST INDIES     2     2     2      0         0         2    0   \n",
       "299   M   WESTERN SAMOA     1     1     1      1         1         1    1   \n",
       "300   M           YEMEN     1     1     1      1         1         1    0   \n",
       "301   M          YEMEN      7     7     7      7         4         7    2   \n",
       "\n",
       "     injury  time  species  \n",
       "0         3     0        2  \n",
       "1       121    74       81  \n",
       "2         1     0        1  \n",
       "3        27    13       18  \n",
       "4         2     0        2  \n",
       "..      ...   ...      ...  \n",
       "297      11     3        2  \n",
       "298       2     0        0  \n",
       "299       1     0        1  \n",
       "300       1     1        0  \n",
       "301       6     1        1  \n",
       "\n",
       "[302 rows x 12 columns]>"
      ]
     },
     "execution_count": 50,
     "metadata": {},
     "output_type": "execute_result"
    }
   ],
   "source": [
    "df_country_sex.head"
   ]
  },
  {
   "cell_type": "code",
   "execution_count": 51,
   "id": "3a15838f-bc33-4e65-ae8e-bf4bbdba9fd7",
   "metadata": {},
   "outputs": [
    {
     "data": {
      "text/html": [
       "<div>\n",
       "<style scoped>\n",
       "    .dataframe tbody tr th:only-of-type {\n",
       "        vertical-align: middle;\n",
       "    }\n",
       "\n",
       "    .dataframe tbody tr th {\n",
       "        vertical-align: top;\n",
       "    }\n",
       "\n",
       "    .dataframe thead th {\n",
       "        text-align: right;\n",
       "    }\n",
       "</style>\n",
       "<table border=\"1\" class=\"dataframe\">\n",
       "  <thead>\n",
       "    <tr style=\"text-align: right;\">\n",
       "      <th></th>\n",
       "      <th>country</th>\n",
       "      <th>count</th>\n",
       "    </tr>\n",
       "  </thead>\n",
       "  <tbody>\n",
       "    <tr>\n",
       "      <th>0</th>\n",
       "      <td>USA</td>\n",
       "      <td>2549</td>\n",
       "    </tr>\n",
       "    <tr>\n",
       "      <th>1</th>\n",
       "      <td>AUSTRALIA</td>\n",
       "      <td>1481</td>\n",
       "    </tr>\n",
       "    <tr>\n",
       "      <th>2</th>\n",
       "      <td>SOUTH AFRICA</td>\n",
       "      <td>596</td>\n",
       "    </tr>\n",
       "    <tr>\n",
       "      <th>3</th>\n",
       "      <td>NEW ZEALAND</td>\n",
       "      <td>144</td>\n",
       "    </tr>\n",
       "    <tr>\n",
       "      <th>4</th>\n",
       "      <td>PAPUA NEW GUINEA</td>\n",
       "      <td>136</td>\n",
       "    </tr>\n",
       "    <tr>\n",
       "      <th>...</th>\n",
       "      <td>...</td>\n",
       "      <td>...</td>\n",
       "    </tr>\n",
       "    <tr>\n",
       "      <th>229</th>\n",
       "      <td>NORTHERN ARABIAN SEA</td>\n",
       "      <td>1</td>\n",
       "    </tr>\n",
       "    <tr>\n",
       "      <th>230</th>\n",
       "      <td>EGYPT / ISRAEL</td>\n",
       "      <td>1</td>\n",
       "    </tr>\n",
       "    <tr>\n",
       "      <th>231</th>\n",
       "      <td>Jamaica</td>\n",
       "      <td>1</td>\n",
       "    </tr>\n",
       "    <tr>\n",
       "      <th>232</th>\n",
       "      <td>MEXICO</td>\n",
       "      <td>1</td>\n",
       "    </tr>\n",
       "    <tr>\n",
       "      <th>233</th>\n",
       "      <td>CEYLON (SRI LANKA)</td>\n",
       "      <td>1</td>\n",
       "    </tr>\n",
       "  </tbody>\n",
       "</table>\n",
       "<p>234 rows × 2 columns</p>\n",
       "</div>"
      ],
      "text/plain": [
       "                  country  count\n",
       "0                     USA   2549\n",
       "1               AUSTRALIA   1481\n",
       "2            SOUTH AFRICA    596\n",
       "3             NEW ZEALAND    144\n",
       "4        PAPUA NEW GUINEA    136\n",
       "..                    ...    ...\n",
       "229  NORTHERN ARABIAN SEA      1\n",
       "230        EGYPT / ISRAEL      1\n",
       "231               Jamaica      1\n",
       "232               MEXICO       1\n",
       "233    CEYLON (SRI LANKA)      1\n",
       "\n",
       "[234 rows x 2 columns]"
      ]
     },
     "execution_count": 51,
     "metadata": {},
     "output_type": "execute_result"
    }
   ],
   "source": [
    "df8.country.value_counts().reset_index()"
   ]
  },
  {
   "cell_type": "code",
   "execution_count": 52,
   "id": "db1079fc-f07f-44f1-9bc4-38f1a29340bb",
   "metadata": {},
   "outputs": [],
   "source": [
    "df8['country'] = df8['country'].str.lower().str.strip()\n",
    "\n",
    "df8['state'] = df8['state'].str.lower().str.strip()\n",
    "\n",
    "df8['location'] = df8['location'].str.lower().str.strip()"
   ]
  },
  {
   "cell_type": "code",
   "execution_count": 53,
   "id": "0988953d-96a4-4729-986a-e70dc741fda3",
   "metadata": {},
   "outputs": [],
   "source": [
    "df8['country'] = df8['country'].str.replace('columbia', 'colombia')"
   ]
  },
  {
   "cell_type": "code",
   "execution_count": 54,
   "id": "f2abd4c1-268b-4774-9356-999986fddf10",
   "metadata": {},
   "outputs": [
    {
     "name": "stdout",
     "output_type": "stream",
     "text": [
      "<class 'pandas.core.frame.DataFrame'>\n",
      "RangeIndex: 6963 entries, 0 to 6962\n",
      "Data columns (total 12 columns):\n",
      " #   Column    Non-Null Count  Dtype \n",
      "---  ------    --------------  ----- \n",
      " 0   date      6963 non-null   object\n",
      " 1   year      6963 non-null   int64 \n",
      " 2   type      6945 non-null   object\n",
      " 3   country   6913 non-null   object\n",
      " 4   state     6483 non-null   object\n",
      " 5   location  6399 non-null   object\n",
      " 6   activity  6379 non-null   object\n",
      " 7   sex       6963 non-null   object\n",
      " 8   age       3973 non-null   object\n",
      " 9   injury    6928 non-null   object\n",
      " 10  time      3442 non-null   object\n",
      " 11  species   3836 non-null   object\n",
      "dtypes: int64(1), object(11)\n",
      "memory usage: 652.9+ KB\n"
     ]
    }
   ],
   "source": [
    "df8.info()"
   ]
  },
  {
   "cell_type": "code",
   "execution_count": 55,
   "id": "f6bf291b-7b96-453f-9b79-7b73b1b0fa38",
   "metadata": {},
   "outputs": [
    {
     "data": {
      "text/plain": [
       "country\n",
       "usa                               2549\n",
       "australia                         1485\n",
       "south africa                       597\n",
       "new zealand                        145\n",
       "papua new guinea                   136\n",
       "                                  ... \n",
       "admiralty islands                    1\n",
       "federated states of micronesia       1\n",
       "red sea                              1\n",
       "british isles                        1\n",
       "ceylon (sri lanka)                   1\n",
       "Name: count, Length: 209, dtype: int64"
      ]
     },
     "execution_count": 55,
     "metadata": {},
     "output_type": "execute_result"
    }
   ],
   "source": [
    "df8.country.value_counts()"
   ]
  },
  {
   "cell_type": "code",
   "execution_count": 56,
   "id": "48c806d5-34d9-48ea-934f-04228cafc645",
   "metadata": {},
   "outputs": [
    {
     "data": {
      "text/plain": [
       "50"
      ]
     },
     "execution_count": 56,
     "metadata": {},
     "output_type": "execute_result"
    }
   ],
   "source": [
    "df8.country.isnull().sum()"
   ]
  },
  {
   "cell_type": "code",
   "execution_count": 57,
   "id": "e4d89185-6fa5-47bc-b985-c9e291914053",
   "metadata": {},
   "outputs": [],
   "source": [
    "df9=df8.copy()"
   ]
  },
  {
   "cell_type": "code",
   "execution_count": 58,
   "id": "7ece2327-2e92-47a3-8332-22d2c1a98509",
   "metadata": {},
   "outputs": [],
   "source": [
    "df9=df9.dropna(subset=[\"country\"])"
   ]
  },
  {
   "cell_type": "code",
   "execution_count": 59,
   "id": "df377655-3fe2-4cd7-bf11-9e601509b7f4",
   "metadata": {},
   "outputs": [
    {
     "name": "stdout",
     "output_type": "stream",
     "text": [
      "<class 'pandas.core.frame.DataFrame'>\n",
      "Index: 6913 entries, 0 to 6962\n",
      "Data columns (total 12 columns):\n",
      " #   Column    Non-Null Count  Dtype \n",
      "---  ------    --------------  ----- \n",
      " 0   date      6913 non-null   object\n",
      " 1   year      6913 non-null   int64 \n",
      " 2   type      6895 non-null   object\n",
      " 3   country   6913 non-null   object\n",
      " 4   state     6468 non-null   object\n",
      " 5   location  6388 non-null   object\n",
      " 6   activity  6336 non-null   object\n",
      " 7   sex       6913 non-null   object\n",
      " 8   age       3964 non-null   object\n",
      " 9   injury    6880 non-null   object\n",
      " 10  time      3435 non-null   object\n",
      " 11  species   3824 non-null   object\n",
      "dtypes: int64(1), object(11)\n",
      "memory usage: 702.1+ KB\n"
     ]
    }
   ],
   "source": [
    "df9.info()"
   ]
  },
  {
   "cell_type": "code",
   "execution_count": 60,
   "id": "08081224-cbcd-4fff-a613-dded549bb505",
   "metadata": {},
   "outputs": [
    {
     "data": {
      "text/plain": [
       "activity\n",
       "Surfing                                                                                                                                                  1391\n",
       "Fishing                                                                                                                                                  1237\n",
       "Swimming                                                                                                                                                 1229\n",
       "Diving                                                                                                                                                    638\n",
       "Wading                                                                                                                                                    175\n",
       "                                                                                                                                                         ... \n",
       "The World Liberty and the tanker Mosli collided. The  Halcyon Breeze sent a lifeboat to the rescue, but it was smashed, throwing 6 men in the  water.       1\n",
       "Helping men land a shark                                                                                                                                    1\n",
       "wreck of the State Oil Company ship Permina                                                                                                                 1\n",
       "Colombian  (Avianca) DC-4 airliner plunged into the sea 5 minutes after takeoff                                                                             1\n",
       "4 men were bathing                                                                                                                                          1\n",
       "Name: count, Length: 771, dtype: int64"
      ]
     },
     "execution_count": 60,
     "metadata": {},
     "output_type": "execute_result"
    }
   ],
   "source": [
    "df9.activity.value_counts()"
   ]
  },
  {
   "cell_type": "code",
   "execution_count": 61,
   "id": "5af4111c-0b3c-4f22-9614-14f042c612ab",
   "metadata": {},
   "outputs": [],
   "source": [
    "df10=df9.copy()"
   ]
  },
  {
   "cell_type": "code",
   "execution_count": 62,
   "id": "1563e672-8e4a-4862-a651-8a6a1a7ed29d",
   "metadata": {},
   "outputs": [],
   "source": [
    "df10.activity=df10.activity.fillna(\"Unknown\")"
   ]
  },
  {
   "cell_type": "code",
   "execution_count": 63,
   "id": "f6a43cfd-d940-4fde-83c7-104543b3b182",
   "metadata": {},
   "outputs": [
    {
     "name": "stdout",
     "output_type": "stream",
     "text": [
      "<class 'pandas.core.frame.DataFrame'>\n",
      "Index: 6913 entries, 0 to 6962\n",
      "Data columns (total 12 columns):\n",
      " #   Column    Non-Null Count  Dtype \n",
      "---  ------    --------------  ----- \n",
      " 0   date      6913 non-null   object\n",
      " 1   year      6913 non-null   int64 \n",
      " 2   type      6895 non-null   object\n",
      " 3   country   6913 non-null   object\n",
      " 4   state     6468 non-null   object\n",
      " 5   location  6388 non-null   object\n",
      " 6   activity  6913 non-null   object\n",
      " 7   sex       6913 non-null   object\n",
      " 8   age       3964 non-null   object\n",
      " 9   injury    6880 non-null   object\n",
      " 10  time      3435 non-null   object\n",
      " 11  species   3824 non-null   object\n",
      "dtypes: int64(1), object(11)\n",
      "memory usage: 702.1+ KB\n"
     ]
    }
   ],
   "source": [
    "df10.info()"
   ]
  },
  {
   "cell_type": "code",
   "execution_count": null,
   "id": "5eee56f9-9455-4f5f-a8ff-d585608978a2",
   "metadata": {},
   "outputs": [],
   "source": []
  },
  {
   "cell_type": "code",
   "execution_count": 64,
   "id": "49fb9aa1-75d4-49de-a2be-e0adb368c23a",
   "metadata": {},
   "outputs": [
    {
     "data": {
      "text/html": [
       "<div>\n",
       "<style scoped>\n",
       "    .dataframe tbody tr th:only-of-type {\n",
       "        vertical-align: middle;\n",
       "    }\n",
       "\n",
       "    .dataframe tbody tr th {\n",
       "        vertical-align: top;\n",
       "    }\n",
       "\n",
       "    .dataframe thead th {\n",
       "        text-align: right;\n",
       "    }\n",
       "</style>\n",
       "<table border=\"1\" class=\"dataframe\">\n",
       "  <thead>\n",
       "    <tr style=\"text-align: right;\">\n",
       "      <th></th>\n",
       "      <th>sex</th>\n",
       "      <th>country</th>\n",
       "      <th>date</th>\n",
       "      <th>year</th>\n",
       "      <th>type</th>\n",
       "      <th>state</th>\n",
       "      <th>location</th>\n",
       "      <th>activity</th>\n",
       "      <th>age</th>\n",
       "      <th>injury</th>\n",
       "      <th>time</th>\n",
       "      <th>species</th>\n",
       "    </tr>\n",
       "  </thead>\n",
       "  <tbody>\n",
       "    <tr>\n",
       "      <th>0</th>\n",
       "      <td>F</td>\n",
       "      <td>ATLANTIC OCEAN</td>\n",
       "      <td>3</td>\n",
       "      <td>3</td>\n",
       "      <td>3</td>\n",
       "      <td>2</td>\n",
       "      <td>0</td>\n",
       "      <td>2</td>\n",
       "      <td>2</td>\n",
       "      <td>3</td>\n",
       "      <td>0</td>\n",
       "      <td>2</td>\n",
       "    </tr>\n",
       "    <tr>\n",
       "      <th>1</th>\n",
       "      <td>F</td>\n",
       "      <td>AUSTRALIA</td>\n",
       "      <td>124</td>\n",
       "      <td>124</td>\n",
       "      <td>124</td>\n",
       "      <td>124</td>\n",
       "      <td>124</td>\n",
       "      <td>110</td>\n",
       "      <td>81</td>\n",
       "      <td>121</td>\n",
       "      <td>74</td>\n",
       "      <td>81</td>\n",
       "    </tr>\n",
       "    <tr>\n",
       "      <th>2</th>\n",
       "      <td>F</td>\n",
       "      <td>AZORES</td>\n",
       "      <td>1</td>\n",
       "      <td>1</td>\n",
       "      <td>1</td>\n",
       "      <td>0</td>\n",
       "      <td>1</td>\n",
       "      <td>1</td>\n",
       "      <td>0</td>\n",
       "      <td>1</td>\n",
       "      <td>0</td>\n",
       "      <td>1</td>\n",
       "    </tr>\n",
       "    <tr>\n",
       "      <th>3</th>\n",
       "      <td>F</td>\n",
       "      <td>BAHAMAS</td>\n",
       "      <td>27</td>\n",
       "      <td>27</td>\n",
       "      <td>27</td>\n",
       "      <td>23</td>\n",
       "      <td>21</td>\n",
       "      <td>26</td>\n",
       "      <td>21</td>\n",
       "      <td>27</td>\n",
       "      <td>13</td>\n",
       "      <td>18</td>\n",
       "    </tr>\n",
       "    <tr>\n",
       "      <th>4</th>\n",
       "      <td>F</td>\n",
       "      <td>BELIZE</td>\n",
       "      <td>2</td>\n",
       "      <td>2</td>\n",
       "      <td>2</td>\n",
       "      <td>1</td>\n",
       "      <td>1</td>\n",
       "      <td>2</td>\n",
       "      <td>1</td>\n",
       "      <td>2</td>\n",
       "      <td>0</td>\n",
       "      <td>2</td>\n",
       "    </tr>\n",
       "    <tr>\n",
       "      <th>...</th>\n",
       "      <td>...</td>\n",
       "      <td>...</td>\n",
       "      <td>...</td>\n",
       "      <td>...</td>\n",
       "      <td>...</td>\n",
       "      <td>...</td>\n",
       "      <td>...</td>\n",
       "      <td>...</td>\n",
       "      <td>...</td>\n",
       "      <td>...</td>\n",
       "      <td>...</td>\n",
       "      <td>...</td>\n",
       "    </tr>\n",
       "    <tr>\n",
       "      <th>297</th>\n",
       "      <td>M</td>\n",
       "      <td>VIETNAM</td>\n",
       "      <td>11</td>\n",
       "      <td>11</td>\n",
       "      <td>10</td>\n",
       "      <td>6</td>\n",
       "      <td>8</td>\n",
       "      <td>9</td>\n",
       "      <td>3</td>\n",
       "      <td>11</td>\n",
       "      <td>3</td>\n",
       "      <td>2</td>\n",
       "    </tr>\n",
       "    <tr>\n",
       "      <th>298</th>\n",
       "      <td>M</td>\n",
       "      <td>WEST INDIES</td>\n",
       "      <td>2</td>\n",
       "      <td>2</td>\n",
       "      <td>2</td>\n",
       "      <td>0</td>\n",
       "      <td>0</td>\n",
       "      <td>2</td>\n",
       "      <td>0</td>\n",
       "      <td>2</td>\n",
       "      <td>0</td>\n",
       "      <td>0</td>\n",
       "    </tr>\n",
       "    <tr>\n",
       "      <th>299</th>\n",
       "      <td>M</td>\n",
       "      <td>WESTERN SAMOA</td>\n",
       "      <td>1</td>\n",
       "      <td>1</td>\n",
       "      <td>1</td>\n",
       "      <td>1</td>\n",
       "      <td>1</td>\n",
       "      <td>1</td>\n",
       "      <td>1</td>\n",
       "      <td>1</td>\n",
       "      <td>0</td>\n",
       "      <td>1</td>\n",
       "    </tr>\n",
       "    <tr>\n",
       "      <th>300</th>\n",
       "      <td>M</td>\n",
       "      <td>YEMEN</td>\n",
       "      <td>1</td>\n",
       "      <td>1</td>\n",
       "      <td>1</td>\n",
       "      <td>1</td>\n",
       "      <td>1</td>\n",
       "      <td>1</td>\n",
       "      <td>0</td>\n",
       "      <td>1</td>\n",
       "      <td>1</td>\n",
       "      <td>0</td>\n",
       "    </tr>\n",
       "    <tr>\n",
       "      <th>301</th>\n",
       "      <td>M</td>\n",
       "      <td>YEMEN</td>\n",
       "      <td>7</td>\n",
       "      <td>7</td>\n",
       "      <td>7</td>\n",
       "      <td>7</td>\n",
       "      <td>4</td>\n",
       "      <td>7</td>\n",
       "      <td>2</td>\n",
       "      <td>6</td>\n",
       "      <td>1</td>\n",
       "      <td>1</td>\n",
       "    </tr>\n",
       "  </tbody>\n",
       "</table>\n",
       "<p>302 rows × 12 columns</p>\n",
       "</div>"
      ],
      "text/plain": [
       "    sex         country  date  year  type  state  location  activity  age  \\\n",
       "0     F  ATLANTIC OCEAN     3     3     3      2         0         2    2   \n",
       "1     F       AUSTRALIA   124   124   124    124       124       110   81   \n",
       "2     F          AZORES     1     1     1      0         1         1    0   \n",
       "3     F         BAHAMAS    27    27    27     23        21        26   21   \n",
       "4     F          BELIZE     2     2     2      1         1         2    1   \n",
       "..   ..             ...   ...   ...   ...    ...       ...       ...  ...   \n",
       "297   M         VIETNAM    11    11    10      6         8         9    3   \n",
       "298   M     WEST INDIES     2     2     2      0         0         2    0   \n",
       "299   M   WESTERN SAMOA     1     1     1      1         1         1    1   \n",
       "300   M           YEMEN     1     1     1      1         1         1    0   \n",
       "301   M          YEMEN      7     7     7      7         4         7    2   \n",
       "\n",
       "     injury  time  species  \n",
       "0         3     0        2  \n",
       "1       121    74       81  \n",
       "2         1     0        1  \n",
       "3        27    13       18  \n",
       "4         2     0        2  \n",
       "..      ...   ...      ...  \n",
       "297      11     3        2  \n",
       "298       2     0        0  \n",
       "299       1     0        1  \n",
       "300       1     1        0  \n",
       "301       6     1        1  \n",
       "\n",
       "[302 rows x 12 columns]"
      ]
     },
     "execution_count": 64,
     "metadata": {},
     "output_type": "execute_result"
    }
   ],
   "source": [
    "df_country_sex"
   ]
  },
  {
   "cell_type": "code",
   "execution_count": 65,
   "id": "d30061f2-7952-42ef-b521-19500779e222",
   "metadata": {},
   "outputs": [
    {
     "data": {
      "text/plain": [
       "5949"
      ]
     },
     "execution_count": 65,
     "metadata": {},
     "output_type": "execute_result"
    }
   ],
   "source": [
    "df10.date.nunique()"
   ]
  },
  {
   "cell_type": "code",
   "execution_count": 66,
   "id": "51e50e18-789a-4d16-aeac-80c1a823eb55",
   "metadata": {
    "scrolled": true
   },
   "outputs": [
    {
     "data": {
      "text/plain": [
       "activity\n",
       "Surfing                                                                                                                                                  1391\n",
       "Fishing                                                                                                                                                  1237\n",
       "Swimming                                                                                                                                                 1229\n",
       "Diving                                                                                                                                                    638\n",
       "Unknown                                                                                                                                                   580\n",
       "                                                                                                                                                         ... \n",
       "The World Liberty and the tanker Mosli collided. The  Halcyon Breeze sent a lifeboat to the rescue, but it was smashed, throwing 6 men in the  water.       1\n",
       "Helping men land a shark                                                                                                                                    1\n",
       "wreck of the State Oil Company ship Permina                                                                                                                 1\n",
       "Colombian  (Avianca) DC-4 airliner plunged into the sea 5 minutes after takeoff                                                                             1\n",
       "4 men were bathing                                                                                                                                          1\n",
       "Name: count, Length: 771, dtype: int64"
      ]
     },
     "execution_count": 66,
     "metadata": {},
     "output_type": "execute_result"
    }
   ],
   "source": [
    "df10.activity.value_counts()"
   ]
  },
  {
   "cell_type": "code",
   "execution_count": 67,
   "id": "5f515096-85e7-4014-99ed-8d7f2d66e51b",
   "metadata": {},
   "outputs": [],
   "source": [
    "df10['country'] = df10['country'].str.replace(r'.*ital.*', 'italy', regex=True)\n",
    "\n",
    "df10['country'] = df10['country'].str.replace(r'.*red sea.*', 'red sea', regex=True)\n",
    "\n",
    "df10['country'] = df10['country'].str.replace(r'.*solomon.*', 'solomon islands', regex=True)"
   ]
  },
  {
   "cell_type": "code",
   "execution_count": 68,
   "id": "d45f083a-b114-435a-a6ad-63d130fe8d81",
   "metadata": {},
   "outputs": [],
   "source": [
    "df10['country'] = df10['country'].str.replace(r'.*st kit.*', 'st kitts', regex=True)\n",
    "\n",
    "df10['country'] = df10['country'].str.replace(r'.*andam.*', 'andaman', regex=True)"
   ]
  },
  {
   "cell_type": "code",
   "execution_count": 69,
   "id": "224adc6f-38a5-4830-a6d8-e442d88c4876",
   "metadata": {},
   "outputs": [],
   "source": [
    "import matplotlib.pyplot as plt\n",
    "import seaborn as sns"
   ]
  },
  {
   "cell_type": "code",
   "execution_count": 70,
   "id": "2caa6b41-bb02-4488-b07f-e05901b32ce4",
   "metadata": {},
   "outputs": [
    {
     "data": {
      "text/plain": [
       "location\n",
       "volusia county                         354\n",
       "brevard county                         123\n",
       "palm beach county                      112\n",
       "horry county                            42\n",
       "st. johns county                        20\n",
       "                                      ... \n",
       "avila beach, san luis obispo county      1\n",
       "nhulunbuy                                1\n",
       "bakers bay                               1\n",
       "10 miles west of walker’s cay            1\n",
       "below the english fort, trincomalee      1\n",
       "Name: count, Length: 4300, dtype: int64"
      ]
     },
     "execution_count": 70,
     "metadata": {},
     "output_type": "execute_result"
    }
   ],
   "source": [
    "df10.location.value_counts()"
   ]
  },
  {
   "cell_type": "code",
   "execution_count": 71,
   "id": "6926d0bc-fbab-4352-812b-02e0dfa57dfc",
   "metadata": {},
   "outputs": [],
   "source": [
    "# df10.to_csv(\"Shark_attack_25_10.csv\",index=False)"
   ]
  },
  {
   "cell_type": "code",
   "execution_count": 72,
   "id": "058ea691-8d36-4dbe-904a-04aab6e60448",
   "metadata": {},
   "outputs": [],
   "source": [
    "import pandas as pd\n",
    "import matplotlib.pyplot as plt\n",
    "import seaborn as sns"
   ]
  },
  {
   "cell_type": "code",
   "execution_count": 73,
   "id": "66d41ada-f387-4d46-b7bd-41f2e7563641",
   "metadata": {},
   "outputs": [],
   "source": [
    "df11=pd.read_csv(\"Shark_attack_25_10.csv\")"
   ]
  },
  {
   "cell_type": "code",
   "execution_count": 74,
   "id": "258a4fff-4cc2-4a34-b2ec-29aa57d6e5f9",
   "metadata": {},
   "outputs": [],
   "source": [
    "df_top_activities=df11[df11[\"activity\"].isin([\"Surfing\",\"Fishing\",\"Swimming\",\"Diving\",\"Unknown\"])]"
   ]
  },
  {
   "cell_type": "code",
   "execution_count": 75,
   "id": "b0993913-3e16-49e0-a5b1-8d3589723670",
   "metadata": {},
   "outputs": [],
   "source": [
    "df_top_countries=df11[df11[\"country\"].isin([\"usa\",\"australia\",\"south africa\",\"new zealand\",\"papua new guinea\"])]"
   ]
  },
  {
   "cell_type": "code",
   "execution_count": 76,
   "id": "7c60d14c-459a-45fe-98a8-3e0b1f148df3",
   "metadata": {},
   "outputs": [
    {
     "data": {
      "text/html": [
       "<div>\n",
       "<style scoped>\n",
       "    .dataframe tbody tr th:only-of-type {\n",
       "        vertical-align: middle;\n",
       "    }\n",
       "\n",
       "    .dataframe tbody tr th {\n",
       "        vertical-align: top;\n",
       "    }\n",
       "\n",
       "    .dataframe thead th {\n",
       "        text-align: right;\n",
       "    }\n",
       "</style>\n",
       "<table border=\"1\" class=\"dataframe\">\n",
       "  <thead>\n",
       "    <tr style=\"text-align: right;\">\n",
       "      <th></th>\n",
       "      <th>activity</th>\n",
       "      <th>sex</th>\n",
       "      <th>count</th>\n",
       "    </tr>\n",
       "  </thead>\n",
       "  <tbody>\n",
       "    <tr>\n",
       "      <th>0</th>\n",
       "      <td>Diving</td>\n",
       "      <td>F</td>\n",
       "      <td>40</td>\n",
       "    </tr>\n",
       "    <tr>\n",
       "      <th>1</th>\n",
       "      <td>Diving</td>\n",
       "      <td>M</td>\n",
       "      <td>598</td>\n",
       "    </tr>\n",
       "    <tr>\n",
       "      <th>2</th>\n",
       "      <td>Fishing</td>\n",
       "      <td>F</td>\n",
       "      <td>50</td>\n",
       "    </tr>\n",
       "    <tr>\n",
       "      <th>3</th>\n",
       "      <td>Fishing</td>\n",
       "      <td>M</td>\n",
       "      <td>1187</td>\n",
       "    </tr>\n",
       "    <tr>\n",
       "      <th>4</th>\n",
       "      <td>Surfing</td>\n",
       "      <td>F</td>\n",
       "      <td>109</td>\n",
       "    </tr>\n",
       "    <tr>\n",
       "      <th>5</th>\n",
       "      <td>Surfing</td>\n",
       "      <td>M</td>\n",
       "      <td>1282</td>\n",
       "    </tr>\n",
       "    <tr>\n",
       "      <th>6</th>\n",
       "      <td>Swimming</td>\n",
       "      <td>F</td>\n",
       "      <td>230</td>\n",
       "    </tr>\n",
       "    <tr>\n",
       "      <th>7</th>\n",
       "      <td>Swimming</td>\n",
       "      <td>M</td>\n",
       "      <td>999</td>\n",
       "    </tr>\n",
       "    <tr>\n",
       "      <th>8</th>\n",
       "      <td>Unknown</td>\n",
       "      <td>F</td>\n",
       "      <td>82</td>\n",
       "    </tr>\n",
       "    <tr>\n",
       "      <th>9</th>\n",
       "      <td>Unknown</td>\n",
       "      <td>M</td>\n",
       "      <td>498</td>\n",
       "    </tr>\n",
       "  </tbody>\n",
       "</table>\n",
       "</div>"
      ],
      "text/plain": [
       "   activity sex  count\n",
       "0    Diving   F     40\n",
       "1    Diving   M    598\n",
       "2   Fishing   F     50\n",
       "3   Fishing   M   1187\n",
       "4   Surfing   F    109\n",
       "5   Surfing   M   1282\n",
       "6  Swimming   F    230\n",
       "7  Swimming   M    999\n",
       "8   Unknown   F     82\n",
       "9   Unknown   M    498"
      ]
     },
     "execution_count": 76,
     "metadata": {},
     "output_type": "execute_result"
    }
   ],
   "source": [
    "df_activity_sex=df_top_activities.groupby([\"activity\",\"sex\"]).size().reset_index(name='count')\n",
    "df_activity_sex"
   ]
  },
  {
   "cell_type": "code",
   "execution_count": 77,
   "id": "172e1d5a-ccdb-4c39-9066-be2d0f4159e6",
   "metadata": {},
   "outputs": [
    {
     "data": {
      "text/html": [
       "<div>\n",
       "<style scoped>\n",
       "    .dataframe tbody tr th:only-of-type {\n",
       "        vertical-align: middle;\n",
       "    }\n",
       "\n",
       "    .dataframe tbody tr th {\n",
       "        vertical-align: top;\n",
       "    }\n",
       "\n",
       "    .dataframe thead th {\n",
       "        text-align: right;\n",
       "    }\n",
       "</style>\n",
       "<table border=\"1\" class=\"dataframe\">\n",
       "  <thead>\n",
       "    <tr style=\"text-align: right;\">\n",
       "      <th></th>\n",
       "      <th>country</th>\n",
       "      <th>sex</th>\n",
       "      <th>count</th>\n",
       "    </tr>\n",
       "  </thead>\n",
       "  <tbody>\n",
       "    <tr>\n",
       "      <th>0</th>\n",
       "      <td>australia</td>\n",
       "      <td>F</td>\n",
       "      <td>124</td>\n",
       "    </tr>\n",
       "    <tr>\n",
       "      <th>1</th>\n",
       "      <td>australia</td>\n",
       "      <td>M</td>\n",
       "      <td>1361</td>\n",
       "    </tr>\n",
       "    <tr>\n",
       "      <th>2</th>\n",
       "      <td>new zealand</td>\n",
       "      <td>F</td>\n",
       "      <td>20</td>\n",
       "    </tr>\n",
       "    <tr>\n",
       "      <th>3</th>\n",
       "      <td>new zealand</td>\n",
       "      <td>M</td>\n",
       "      <td>125</td>\n",
       "    </tr>\n",
       "    <tr>\n",
       "      <th>4</th>\n",
       "      <td>papua new guinea</td>\n",
       "      <td>F</td>\n",
       "      <td>12</td>\n",
       "    </tr>\n",
       "    <tr>\n",
       "      <th>5</th>\n",
       "      <td>papua new guinea</td>\n",
       "      <td>M</td>\n",
       "      <td>124</td>\n",
       "    </tr>\n",
       "    <tr>\n",
       "      <th>6</th>\n",
       "      <td>south africa</td>\n",
       "      <td>F</td>\n",
       "      <td>32</td>\n",
       "    </tr>\n",
       "    <tr>\n",
       "      <th>7</th>\n",
       "      <td>south africa</td>\n",
       "      <td>M</td>\n",
       "      <td>565</td>\n",
       "    </tr>\n",
       "    <tr>\n",
       "      <th>8</th>\n",
       "      <td>usa</td>\n",
       "      <td>F</td>\n",
       "      <td>434</td>\n",
       "    </tr>\n",
       "    <tr>\n",
       "      <th>9</th>\n",
       "      <td>usa</td>\n",
       "      <td>M</td>\n",
       "      <td>2115</td>\n",
       "    </tr>\n",
       "  </tbody>\n",
       "</table>\n",
       "</div>"
      ],
      "text/plain": [
       "            country sex  count\n",
       "0         australia   F    124\n",
       "1         australia   M   1361\n",
       "2       new zealand   F     20\n",
       "3       new zealand   M    125\n",
       "4  papua new guinea   F     12\n",
       "5  papua new guinea   M    124\n",
       "6      south africa   F     32\n",
       "7      south africa   M    565\n",
       "8               usa   F    434\n",
       "9               usa   M   2115"
      ]
     },
     "execution_count": 77,
     "metadata": {},
     "output_type": "execute_result"
    }
   ],
   "source": [
    "df_country_sex=df_top_countries.groupby([\"country\",\"sex\"]).size().reset_index(name='count')\n",
    "df_country_sex"
   ]
  },
  {
   "cell_type": "code",
   "execution_count": 78,
   "id": "7ac52e55-b19d-4f0d-abba-2e30c8a68d3c",
   "metadata": {},
   "outputs": [
    {
     "data": {
      "image/png": "[encoded data removed]",
      "text/plain": [
       "<Figure size 640x480 with 1 Axes>"
      ]
     },
     "metadata": {},
     "output_type": "display_data"
    }
   ],
   "source": [
    "sns.barplot(x='activity', y=\"count\", hue='sex', data=df_activity_sex,palette=[\"green\",\"blue\"])\n",
    "plt.show()"
   ]
  },
  {
   "cell_type": "code",
   "execution_count": 79,
   "id": "79b6ccdf-1ff5-4bcd-93a3-6d31c80c6f60",
   "metadata": {},
   "outputs": [
    {
     "data": {
      "image/png": "[encoded data removed]",
      "text/plain": [
       "<Figure size 640x480 with 1 Axes>"
      ]
     },
     "metadata": {},
     "output_type": "display_data"
    }
   ],
   "source": [
    "sns.barplot(x='country', y=\"count\", hue='sex', data=df_country_sex, palette=[\"green\",\"blue\"])\n",
    "plt.show()"
   ]
  },
  {
   "cell_type": "code",
   "execution_count": 80,
   "id": "46d383b8-87f5-4a99-8b41-1ef442d9e292",
   "metadata": {},
   "outputs": [
    {
     "name": "stdout",
     "output_type": "stream",
     "text": [
      "<class 'pandas.core.frame.DataFrame'>\n",
      "RangeIndex: 6913 entries, 0 to 6912\n",
      "Data columns (total 12 columns):\n",
      " #   Column    Non-Null Count  Dtype \n",
      "---  ------    --------------  ----- \n",
      " 0   date      6913 non-null   object\n",
      " 1   year      6913 non-null   int64 \n",
      " 2   type      6895 non-null   object\n",
      " 3   country   6913 non-null   object\n",
      " 4   state     6468 non-null   object\n",
      " 5   location  6387 non-null   object\n",
      " 6   activity  6913 non-null   object\n",
      " 7   sex       6913 non-null   object\n",
      " 8   age       3964 non-null   object\n",
      " 9   injury    6880 non-null   object\n",
      " 10  time      3435 non-null   object\n",
      " 11  species   3824 non-null   object\n",
      "dtypes: int64(1), object(11)\n",
      "memory usage: 648.2+ KB\n"
     ]
    }
   ],
   "source": [
    "df11.info()"
   ]
  },
  {
   "cell_type": "code",
   "execution_count": 81,
   "id": "844d16ab-7b9b-4fd8-85bb-619ae45ea890",
   "metadata": {},
   "outputs": [
    {
     "data": {
      "text/plain": [
       "injury\n",
       "Injured                                                                        3652\n",
       "Fatal                                                                          1418\n",
       "No injury                                                                       853\n",
       "No details                                                                       43\n",
       "Probable drowning & scavenging                                                    9\n",
       "                                                                               ... \n",
       "He grabbed shark's tail, shark bit his chest & held on.  PROVOKED INCIDENT        1\n",
       "Shark grasped diver's gloved hand. Glove was soaked with fish blood & slime       1\n",
       "Left leg gashed knee to ankle                                                     1\n",
       "5 m white shark obsrved feeding on remains 6 days later                           1\n",
       "\"Lost leg\"                                                                        1\n",
       "Name: count, Length: 809, dtype: int64"
      ]
     },
     "execution_count": 81,
     "metadata": {},
     "output_type": "execute_result"
    }
   ],
   "source": [
    "df11.injury.value_counts()"
   ]
  },
  {
   "cell_type": "code",
   "execution_count": 82,
   "id": "1f0b42ba-d72f-4216-a538-f630193532a3",
   "metadata": {},
   "outputs": [
    {
     "name": "stdout",
     "output_type": "stream",
     "text": [
      "<class 'pandas.core.frame.DataFrame'>\n",
      "RangeIndex: 6913 entries, 0 to 6912\n",
      "Data columns (total 12 columns):\n",
      " #   Column    Non-Null Count  Dtype \n",
      "---  ------    --------------  ----- \n",
      " 0   date      6913 non-null   object\n",
      " 1   year      6913 non-null   int64 \n",
      " 2   type      6895 non-null   object\n",
      " 3   country   6913 non-null   object\n",
      " 4   state     6468 non-null   object\n",
      " 5   location  6387 non-null   object\n",
      " 6   activity  6913 non-null   object\n",
      " 7   sex       6913 non-null   object\n",
      " 8   age       3964 non-null   object\n",
      " 9   injury    6880 non-null   object\n",
      " 10  time      3435 non-null   object\n",
      " 11  species   3824 non-null   object\n",
      "dtypes: int64(1), object(11)\n",
      "memory usage: 648.2+ KB\n"
     ]
    }
   ],
   "source": [
    "df11.info()"
   ]
  }
 ],
 "metadata": {
  "kernelspec": {
   "display_name": "Python 3 (ipykernel)",
   "language": "python",
   "name": "python3"
  },
  "language_info": {
   "codemirror_mode": {
    "name": "ipython",
    "version": 3
   },
   "file_extension": ".py",
   "mimetype": "text/x-python",
   "name": "python",
   "nbconvert_exporter": "python",
   "pygments_lexer": "ipython3",
   "version": "3.12.4"
  }
 },
 "nbformat": 4,
 "nbformat_minor": 5
}
